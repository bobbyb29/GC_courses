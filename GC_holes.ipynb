{
 "cells": [
  {
   "cell_type": "code",
   "execution_count": 59,
   "metadata": {},
   "outputs": [],
   "source": [
    "import requests\n",
    "import lxml.html as lh\n",
    "import pandas as pd\n",
    "import numpy as np "
   ]
  },
  {
   "cell_type": "code",
   "execution_count": 60,
   "metadata": {},
   "outputs": [],
   "source": [
    "#url='https://www.mscorecard.com/mscorecard/showcourse.php?cid=141521162939611337'\n",
    "url='https://www.mscorecard.com/mscorecard/showcourse.php?cid=14152075278110428'"
   ]
  },
  {
   "cell_type": "code",
   "execution_count": 61,
   "metadata": {},
   "outputs": [],
   "source": [
    "#dfs = pd.read_html('https://www.mscorecard.com/mscorecard/showcourse.php?cid=141521162939611337')\n",
    "df = pd.read_html(url)[0]"
   ]
  },
  {
   "cell_type": "code",
   "execution_count": 62,
   "metadata": {},
   "outputs": [],
   "source": [
    "#dfs"
   ]
  },
  {
   "cell_type": "code",
   "execution_count": 63,
   "metadata": {},
   "outputs": [],
   "source": [
    "#Create a handle, page, to handle the contents of the website\n",
    "page = requests.get(url)"
   ]
  },
  {
   "cell_type": "code",
   "execution_count": 64,
   "metadata": {},
   "outputs": [],
   "source": [
    "#Store the contents of the website under doc\n",
    "doc = lh.fromstring(page.content)"
   ]
  },
  {
   "cell_type": "code",
   "execution_count": 65,
   "metadata": {},
   "outputs": [],
   "source": [
    "#Parse data that are stored between <tr>..</tr> of HTML\n",
    "tr_elements = doc.xpath('//tr')\n",
    "#Test for the number of holes\n",
    "if (len(tr_elements)) == 22:\n",
    "    h=['2','3','4','5','6','7','8','9','10']\n",
    "    ms=12\n",
    "    mcr=13\n",
    "    ws=14\n",
    "    wcr=15\n",
    "if (len(tr_elements)) == 33:\n",
    "    h=['2','3','4','5','6','7','8','9','10','12','13','14','15','16','17','18','19','20']\n",
    "    ms=23\n",
    "    mcr=24\n",
    "    ws=25\n",
    "    wcr=26"
   ]
  },
  {
   "cell_type": "code",
   "execution_count": 66,
   "metadata": {},
   "outputs": [],
   "source": [
    "#print (tr_elements)"
   ]
  },
  {
   "cell_type": "code",
   "execution_count": 67,
   "metadata": {},
   "outputs": [],
   "source": [
    "#Check the length of the first 12 rows\n",
    "#[len(T) for T in tr_elements[:22]]"
   ]
  },
  {
   "cell_type": "code",
   "execution_count": 68,
   "metadata": {},
   "outputs": [],
   "source": [
    "#Create empty list\n",
    "tees=[]\n",
    "yards=[]\n",
    "holes=[]\n",
    "col=[]\n",
    "par=[]\n",
    "w_par=[]\n",
    "m_hcp=[]\n",
    "w_hcp=[]\n",
    "m_slope=[]\n",
    "m_rating=[]\n",
    "w_slope=[]\n",
    "w_rating=[]\n",
    "i=0\n",
    "j=2"
   ]
  },
  {
   "cell_type": "code",
   "execution_count": 69,
   "metadata": {},
   "outputs": [
    {
     "name": "stdout",
     "output_type": "stream",
     "text": [
      "Tees ['White', 'Red']\n"
     ]
    }
   ],
   "source": [
    "#For each row, store each first element (header) and an empty list\n",
    "for t in tr_elements[1]:\n",
    "    i+=1\n",
    "    name=t.text_content()\n",
    "    #print ('%d:\"%s\"'%(i,name))\n",
    "    #print(name)\n",
    "    if name not in ['Hole','Par','Hcp']:\n",
    "        tees.append(name)\n",
    "    col.append((name,[]))\n",
    "print('Tees', tees)"
   ]
  },
  {
   "cell_type": "code",
   "execution_count": 70,
   "metadata": {
    "scrolled": false
   },
   "outputs": [
    {
     "name": "stdout",
     "output_type": "stream",
     "text": [
      "Yards [['119', '480', '243', '100', '324', '248', '95', '283', '109'], ['114', '465', '232', '97', '315', '238', '89', '272', '100']]\n"
     ]
    }
   ],
   "source": [
    "#  front 9 and back 9 yardages\n",
    "def get_value(index):\n",
    "    if (len(tr_elements)) == 22:\n",
    "        return list(np.concatenate([df.iloc[:,index][2:11].to_numpy()]))\n",
    "    if (len(tr_elements)) == 33:\n",
    "        return list(np.concatenate([df.iloc[:,index][2:11].to_numpy(), df.iloc[:,index][12:21].to_numpy()]))\n",
    "yards = []\n",
    "for i in range(3,len(tees)+3):\n",
    "    yards.append(get_value(i))\n",
    "print('Yards', yards) "
   ]
  },
  {
   "cell_type": "code",
   "execution_count": 71,
   "metadata": {},
   "outputs": [
    {
     "name": "stdout",
     "output_type": "stream",
     "text": [
      "Men par ['3', '5', '4', '3', '4', '4', '3', '4', '3']\n",
      "Men Handicap ['-', '-', '-', '-', '-', '-', '-', '-', '-']\n"
     ]
    }
   ],
   "source": [
    "# front 9 and back 9 MEN pars and handicaps\n",
    "for x in h:\n",
    "    for t in (tr_elements[int(x)]):\n",
    "        name=t.text_content()\n",
    "        holes.append(name)\n",
    "    par.append(holes[1])\n",
    "    m_hcp.append(holes[2])\n",
    "    holes.clear()\n",
    "print('Men par', par)\n",
    "print('Men Handicap', m_hcp)"
   ]
  },
  {
   "cell_type": "code",
   "execution_count": 74,
   "metadata": {},
   "outputs": [
    {
     "name": "stdout",
     "output_type": "stream",
     "text": [
      "Women par ['3', '5', '4', '3', '4', '4', '3', '4', '3', '3', '5', '4', '3', '4', '4', '3', '4', '3']\n",
      "Women Handicap ['-', '-', '-', '-', '-', '-', '-', '-', '-', '-', '-', '-', '-', '-', '-', '-', '-', '-']\n"
     ]
    }
   ],
   "source": [
    "# front 9 and back 9 WOMEN pars and handicaps\n",
    "for x in h:\n",
    "    for t in (tr_elements[int(x)]):\n",
    "        name=t.text_content()\n",
    "        holes.append(name)\n",
    "    w_par.append(holes[len(tees)+3])\n",
    "    w_hcp.append(holes[len(tees)+4])\n",
    "    holes.clear()\n",
    "print('Women par', w_par)\n",
    "print('Women Handicap', w_hcp)"
   ]
  },
  {
   "cell_type": "code",
   "execution_count": 54,
   "metadata": {},
   "outputs": [
    {
     "name": "stdout",
     "output_type": "stream",
     "text": [
      "Men slope ['88', '99']\n"
     ]
    }
   ],
   "source": [
    "# men slope\n",
    "for t in (tr_elements[ms]):\n",
    "    name=t.text_content()\n",
    "    holes.append(name)\n",
    "for i in range(len(tees)):\n",
    "    i+=1\n",
    "    m_slope.append(holes[i])\n",
    "holes.clear()\n",
    "print('Men slope', m_slope)"
   ]
  },
  {
   "cell_type": "code",
   "execution_count": 55,
   "metadata": {},
   "outputs": [
    {
     "name": "stdout",
     "output_type": "stream",
     "text": [
      "Men rating ['30.6', '31.7']\n"
     ]
    }
   ],
   "source": [
    "# men rating\n",
    "for t in (tr_elements[mcr]):\n",
    "    name=t.text_content()\n",
    "    holes.append(name)\n",
    "for i in range(len(tees)):\n",
    "    i+=1\n",
    "    m_rating.append(holes[i])\n",
    "holes.clear()\n",
    "print('Men rating', m_rating)"
   ]
  },
  {
   "cell_type": "code",
   "execution_count": 56,
   "metadata": {},
   "outputs": [
    {
     "name": "stdout",
     "output_type": "stream",
     "text": [
      "Women slope ['-', '-']\n"
     ]
    }
   ],
   "source": [
    "# women slope\n",
    "for t in (tr_elements[ws]):\n",
    "    name=t.text_content()\n",
    "    holes.append(name)\n",
    "for i in range(len(tees)):\n",
    "    i+=1\n",
    "    w_slope.append(holes[i])\n",
    "holes.clear()\n",
    "print('Women slope', w_slope)"
   ]
  },
  {
   "cell_type": "code",
   "execution_count": 57,
   "metadata": {
    "scrolled": true
   },
   "outputs": [
    {
     "name": "stdout",
     "output_type": "stream",
     "text": [
      "Women rating ['-', '-']\n"
     ]
    }
   ],
   "source": [
    "# women rating\n",
    "for t in (tr_elements[wcr]):\n",
    "    name=t.text_content()\n",
    "    holes.append(name)\n",
    "for i in range(len(tees)):\n",
    "    i+=1\n",
    "    w_rating.append(holes[i])\n",
    "holes.clear()\n",
    "print('Women rating',  w_rating)"
   ]
  },
  {
   "cell_type": "code",
   "execution_count": null,
   "metadata": {},
   "outputs": [],
   "source": []
  }
 ],
 "metadata": {
  "kernelspec": {
   "display_name": "Python 3",
   "language": "python",
   "name": "python3"
  },
  "language_info": {
   "codemirror_mode": {
    "name": "ipython",
    "version": 3
   },
   "file_extension": ".py",
   "mimetype": "text/x-python",
   "name": "python",
   "nbconvert_exporter": "python",
   "pygments_lexer": "ipython3",
   "version": "3.7.6"
  }
 },
 "nbformat": 4,
 "nbformat_minor": 4
}
