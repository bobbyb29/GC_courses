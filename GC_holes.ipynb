{
 "cells": [
  {
   "cell_type": "code",
   "execution_count": 205,
   "metadata": {},
   "outputs": [],
   "source": [
    "import requests\n",
    "import lxml.html as lh\n",
    "import pandas as pd\n",
    "import numpy as np "
   ]
  },
  {
   "cell_type": "code",
   "execution_count": 206,
   "metadata": {},
   "outputs": [],
   "source": [
    "url='https://www.mscorecard.com/mscorecard/showcourse.php?cid=141521162939611337'\n",
    "#url='https://www.mscorecard.com/mscorecard/showcourse.php?cid=14152075278110428'"
   ]
  },
  {
   "cell_type": "code",
   "execution_count": 207,
   "metadata": {},
   "outputs": [],
   "source": [
    "#dfs = pd.read_html('https://www.mscorecard.com/mscorecard/showcourse.php?cid=141521162939611337')\n",
    "df = pd.read_html(url)[0]"
   ]
  },
  {
   "cell_type": "code",
   "execution_count": 208,
   "metadata": {},
   "outputs": [],
   "source": [
    "#dfs"
   ]
  },
  {
   "cell_type": "code",
   "execution_count": 209,
   "metadata": {},
   "outputs": [],
   "source": [
    "#Create a handle, page, to handle the contents of the website\n",
    "page = requests.get(url)"
   ]
  },
  {
   "cell_type": "code",
   "execution_count": 210,
   "metadata": {},
   "outputs": [],
   "source": [
    "#Store the contents of the website under doc\n",
    "doc = lh.fromstring(page.content)"
   ]
  },
  {
   "cell_type": "code",
   "execution_count": 211,
   "metadata": {},
   "outputs": [],
   "source": [
    "#Parse data that are stored between <tr>..</tr> of HTML\n",
    "tr_elements = doc.xpath('//tr')\n",
    "#Test for the number of holes\n",
    "if (len(tr_elements)) == 22:\n",
    "    h=['2','3','4','5','6','7','8','9','10']\n",
    "if (len(tr_elements)) == 33:\n",
    "    h=['2','3','4','5','6','7','8','9','10','12','13','14','15','16','17','18','19','20']"
   ]
  },
  {
   "cell_type": "code",
   "execution_count": 212,
   "metadata": {},
   "outputs": [],
   "source": [
    "#print (tr_elements)"
   ]
  },
  {
   "cell_type": "code",
   "execution_count": 213,
   "metadata": {},
   "outputs": [],
   "source": [
    "#Check the length of the first 12 rows\n",
    "#[len(T) for T in tr_elements[:22]]"
   ]
  },
  {
   "cell_type": "code",
   "execution_count": 214,
   "metadata": {},
   "outputs": [],
   "source": [
    "#Create empty list\n",
    "tees=[]\n",
    "yards=[]\n",
    "holes=[]\n",
    "col=[]\n",
    "par=[]\n",
    "w_par=[]\n",
    "m_hcp=[]\n",
    "w_hcp=[]\n",
    "m_slope=[]\n",
    "m_rating=[]\n",
    "w_slope=[]\n",
    "w_rating=[]\n",
    "i=0\n",
    "j=2"
   ]
  },
  {
   "cell_type": "code",
   "execution_count": 215,
   "metadata": {},
   "outputs": [
    {
     "name": "stdout",
     "output_type": "stream",
     "text": [
      "Tees ['Black', 'Blue', 'White', 'Red (L)']\n",
      "4\n"
     ]
    }
   ],
   "source": [
    "#For each row, store each first element (header) and an empty list\n",
    "for t in tr_elements[1]:\n",
    "    i+=1\n",
    "    name=t.text_content()\n",
    "    #print ('%d:\"%s\"'%(i,name))\n",
    "    #print(name)\n",
    "    if name not in ['Hole','Par','Hcp']:\n",
    "        tees.append(name)\n",
    "    col.append((name,[]))\n",
    "print('Tees', tees)"
   ]
  },
  {
   "cell_type": "code",
   "execution_count": 226,
   "metadata": {
    "scrolled": false
   },
   "outputs": [
    {
     "name": "stdout",
     "output_type": "stream",
     "text": [
      "Yards [['451', '371', '200', '346', '442', '419', '241', '385', '541', '561', '387', '308', '456', '180', '584', '181', '405', '165'], ['401', '354', '164', '298', '408', '398', '210', '319', '511', '538', '372', '288', '448', '149', '560', '160', '379', '148'], ['346', '326', '152', '291', '363', '388', '200', '260', '415', '511', '361', '255', '386', '138', '548', '149', '330', '111'], ['251', '277', '117', '261', '325', '354', '166', '225', '355', '439', '278', '187', '325', '94', '489', '111', '269', '90']]\n",
      "test 387\n"
     ]
    }
   ],
   "source": [
    "#  front 9 and back 9 yardages\n",
    "def get_value(index):\n",
    "    if (len(tr_elements)) == 22:\n",
    "        return list(np.concatenate([df.iloc[:,index][2:11].to_numpy()]))\n",
    "    if (len(tr_elements)) == 33:\n",
    "        return list(np.concatenate([df.iloc[:,index][2:11].to_numpy(), df.iloc[:,index][12:21].to_numpy()]))\n",
    "yards = []\n",
    "for i in range(3,len(tees)+3):\n",
    "    yards.append(get_value(i))\n",
    "print('Yards', yards) "
   ]
  },
  {
   "cell_type": "code",
   "execution_count": 218,
   "metadata": {},
   "outputs": [
    {
     "name": "stdout",
     "output_type": "stream",
     "text": [
      "Men par ['4', '4', '3', '4', '4', '4', '3', '4', '5', '5', '4', '4', '4', '3', '5', '3', '4', '3']\n",
      "Men Handicap ['2', '10', '18', '14', '6', '8', '16', '12', '4', '3', '9', '11', '5', '15', '1', '13', '7', '17']\n"
     ]
    }
   ],
   "source": [
    "# front 9 and back 9 MEN pars and handicaps\n",
    "for x in h:\n",
    "    for t in (tr_elements[int(x)]):\n",
    "        name=t.text_content()\n",
    "        holes.append(name)\n",
    "    par.append(holes[1])\n",
    "    m_hcp.append(holes[2])\n",
    "    holes.clear()\n",
    "print('Men par', par)\n",
    "print('Men Handicap', m_hcp)"
   ]
  },
  {
   "cell_type": "code",
   "execution_count": 219,
   "metadata": {},
   "outputs": [
    {
     "name": "stdout",
     "output_type": "stream",
     "text": [
      "Men slope ['142', '135', '130', '-']\n"
     ]
    }
   ],
   "source": [
    "# men slope\n",
    "for t in (tr_elements[23]):\n",
    "    name=t.text_content()\n",
    "    holes.append(name)\n",
    "for i in range(len(tees)):\n",
    "    i+=1\n",
    "    m_slope.append(holes[i])\n",
    "holes.clear()\n",
    "print('Men slope', m_slope)"
   ]
  },
  {
   "cell_type": "code",
   "execution_count": 220,
   "metadata": {},
   "outputs": [
    {
     "name": "stdout",
     "output_type": "stream",
     "text": [
      "Men rating ['71.8', '69.3', '66.7', '-']\n"
     ]
    }
   ],
   "source": [
    "# men rating\n",
    "for t in (tr_elements[24]):\n",
    "    name=t.text_content()\n",
    "    holes.append(name)\n",
    "for i in range(len(tees)):\n",
    "    i+=1\n",
    "    m_rating.append(holes[i])\n",
    "holes.clear()\n",
    "print('Men rating', m_rating)"
   ]
  },
  {
   "cell_type": "code",
   "execution_count": 221,
   "metadata": {},
   "outputs": [
    {
     "name": "stdout",
     "output_type": "stream",
     "text": [
      "Women slope ['-', '-', '134', '118']\n"
     ]
    }
   ],
   "source": [
    "# women slope\n",
    "for t in (tr_elements[25]):\n",
    "    name=t.text_content()\n",
    "    holes.append(name)\n",
    "for i in range(len(tees)):\n",
    "    i+=1\n",
    "    w_slope.append(holes[i])\n",
    "holes.clear()\n",
    "print('Women slope', w_slope)"
   ]
  },
  {
   "cell_type": "code",
   "execution_count": 222,
   "metadata": {
    "scrolled": true
   },
   "outputs": [
    {
     "name": "stdout",
     "output_type": "stream",
     "text": [
      "Women rating ['-', '-', '72.2', '67']\n"
     ]
    }
   ],
   "source": [
    "# women rating\n",
    "for t in (tr_elements[26]):\n",
    "    name=t.text_content()\n",
    "    holes.append(name)\n",
    "for i in range(len(tees)):\n",
    "    i+=1\n",
    "    w_rating.append(holes[i])\n",
    "holes.clear()\n",
    "print('Women rating',  w_rating)"
   ]
  },
  {
   "cell_type": "code",
   "execution_count": 475,
   "metadata": {},
   "outputs": [],
   "source": [
    "#Since out first row is the header, data is stored on the second row onwards\n",
    "for j in range(1,len(tr_elements)):\n",
    "    #T is our j'th row\n",
    "    T=tr_elements[j]\n",
    "    \n",
    "    #If row is not of size 10, the //tr data is not from our table \n",
    "    if len(T)!=10:\n",
    "        break\n",
    "    \n",
    "    #i is the index of our column\n",
    "    i=0\n",
    "    \n",
    "    #Iterate through each element of the row\n",
    "    for t in T.iterchildren():\n",
    "        data=t.text_content() \n",
    "        #Check if row is empty\n",
    "        if i>0:\n",
    "        #Convert any numerical value to integers\n",
    "            try:\n",
    "                data=int(data)\n",
    "            except:\n",
    "                pass\n",
    "        #Append the data to the empty list of the i'th column\n",
    "        col[i][1].append(data)\n",
    "        #Increment i for the next column\n",
    "        i+=1"
   ]
  },
  {
   "cell_type": "code",
   "execution_count": 425,
   "metadata": {},
   "outputs": [],
   "source": [
    "Dict={title:column for (title,column) in col}\n",
    "df=pd.DataFrame(Dict)"
   ]
  },
  {
   "cell_type": "code",
   "execution_count": 355,
   "metadata": {},
   "outputs": [
    {
     "data": {
      "text/html": [
       "<div>\n",
       "<style scoped>\n",
       "    .dataframe tbody tr th:only-of-type {\n",
       "        vertical-align: middle;\n",
       "    }\n",
       "\n",
       "    .dataframe tbody tr th {\n",
       "        vertical-align: top;\n",
       "    }\n",
       "\n",
       "    .dataframe thead th {\n",
       "        text-align: right;\n",
       "    }\n",
       "</style>\n",
       "<table border=\"1\" class=\"dataframe\">\n",
       "  <thead>\n",
       "    <tr style=\"text-align: right;\">\n",
       "      <th></th>\n",
       "      <th>Hole</th>\n",
       "      <th>Par</th>\n",
       "      <th>Hcp</th>\n",
       "      <th>Black</th>\n",
       "      <th>Blue</th>\n",
       "      <th>White</th>\n",
       "      <th>Red (L)</th>\n",
       "    </tr>\n",
       "  </thead>\n",
       "  <tbody>\n",
       "  </tbody>\n",
       "</table>\n",
       "</div>"
      ],
      "text/plain": [
       "Empty DataFrame\n",
       "Columns: [Hole, Par, Hcp, Black, Blue, White, Red (L)]\n",
       "Index: []"
      ]
     },
     "execution_count": 355,
     "metadata": {},
     "output_type": "execute_result"
    }
   ],
   "source": [
    "df.head()"
   ]
  },
  {
   "cell_type": "code",
   "execution_count": null,
   "metadata": {},
   "outputs": [],
   "source": []
  }
 ],
 "metadata": {
  "kernelspec": {
   "display_name": "Python 3",
   "language": "python",
   "name": "python3"
  },
  "language_info": {
   "codemirror_mode": {
    "name": "ipython",
    "version": 3
   },
   "file_extension": ".py",
   "mimetype": "text/x-python",
   "name": "python",
   "nbconvert_exporter": "python",
   "pygments_lexer": "ipython3",
   "version": "3.7.6"
  }
 },
 "nbformat": 4,
 "nbformat_minor": 4
}
